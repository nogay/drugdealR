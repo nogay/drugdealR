{
 "cells": [
  {
   "cell_type": "code",
   "execution_count": 1,
   "metadata": {},
   "outputs": [],
   "source": [
    "import pandas as pd"
   ]
  },
  {
   "cell_type": "markdown",
   "metadata": {},
   "source": [
    "### Read and merge interactome and drug networks"
   ]
  },
  {
   "cell_type": "code",
   "execution_count": 2,
   "metadata": {},
   "outputs": [],
   "source": [
    "interactome = pd.read_csv(\"./data/interactome.csv\")\n",
    "drugnet = pd.read_csv(\"./data/drug_target_net.csv\")\n",
    "interactome.columns = ['Protein_A', 'Protein_B']\n",
    "drugnet.columns = ['Protein_A', 'Protein_B']\n",
    "\n",
    "intCols = interactome.columns.tolist()\n",
    "intCols = intCols[-1:] + intCols[:-1]\n",
    "interactome_reverse = interactome[intCols]\n",
    "\n",
    "drugCols = drugnet.columns.tolist()\n",
    "drugCols = drugCols[-1:] + drugCols[:-1]\n",
    "drugnet_reverse = drugnet[drugCols]\n",
    "\n",
    "interactome_reverse.columns = ['Protein_A', 'Protein_B']\n",
    "drugnet_reverse.columns = ['Protein_A', 'Protein_B']\n",
    "\n",
    "megazord = pd.concat([interactome, interactome_reverse, drugnet, drugnet_reverse], ignore_index=True)"
   ]
  },
  {
   "cell_type": "code",
   "execution_count": 3,
   "metadata": {},
   "outputs": [
    {
     "data": {
      "text/html": [
       "<div>\n",
       "<style scoped>\n",
       "    .dataframe tbody tr th:only-of-type {\n",
       "        vertical-align: middle;\n",
       "    }\n",
       "\n",
       "    .dataframe tbody tr th {\n",
       "        vertical-align: top;\n",
       "    }\n",
       "\n",
       "    .dataframe thead th {\n",
       "        text-align: right;\n",
       "    }\n",
       "</style>\n",
       "<table border=\"1\" class=\"dataframe\">\n",
       "  <thead>\n",
       "    <tr style=\"text-align: right;\">\n",
       "      <th></th>\n",
       "      <th>Protein_A</th>\n",
       "      <th>Protein_B</th>\n",
       "    </tr>\n",
       "  </thead>\n",
       "  <tbody>\n",
       "    <tr>\n",
       "      <th>0</th>\n",
       "      <td>1</td>\n",
       "      <td>310</td>\n",
       "    </tr>\n",
       "    <tr>\n",
       "      <th>1</th>\n",
       "      <td>1</td>\n",
       "      <td>368</td>\n",
       "    </tr>\n",
       "    <tr>\n",
       "      <th>2</th>\n",
       "      <td>1</td>\n",
       "      <td>1026</td>\n",
       "    </tr>\n",
       "    <tr>\n",
       "      <th>3</th>\n",
       "      <td>1</td>\n",
       "      <td>2886</td>\n",
       "    </tr>\n",
       "    <tr>\n",
       "      <th>4</th>\n",
       "      <td>1</td>\n",
       "      <td>3958</td>\n",
       "    </tr>\n",
       "  </tbody>\n",
       "</table>\n",
       "</div>"
      ],
      "text/plain": [
       "  Protein_A Protein_B\n",
       "0         1       310\n",
       "1         1       368\n",
       "2         1      1026\n",
       "3         1      2886\n",
       "4         1      3958"
      ]
     },
     "execution_count": 3,
     "metadata": {},
     "output_type": "execute_result"
    }
   ],
   "source": [
    "megazord.head()"
   ]
  },
  {
   "cell_type": "markdown",
   "metadata": {},
   "source": [
    "#### Replace IDs with names\n",
    "##### Run if you "
   ]
  },
  {
   "cell_type": "code",
   "execution_count": 4,
   "metadata": {},
   "outputs": [],
   "source": [
    "GENEIDTAB = pd.read_csv(\"./data/Human_gene_id.txt\",sep=\"\\t\")\n",
    "DRUGIDTAB = pd.read_csv(\"./data/drugbank_with_id.tsv\",sep=\"\\t\")\n",
    "DRUGIDTAB = DRUGIDTAB.iloc[:,0:2]\n",
    "TOTALIDTAB = pd.concat([GENEIDTAB,DRUGIDTAB.rename(columns={'drugbank_id':'GeneID', 'name':'Symbol'})], ignore_index=True, names=[\"id\",\"name\"])\n",
    "TOTALIDTAB = TOTALIDTAB.rename(columns={'GeneID':'ID','Symbol':'name'})"
   ]
  },
  {
   "cell_type": "code",
   "execution_count": 4,
   "metadata": {},
   "outputs": [],
   "source": [
    "for i in range(len(megazord['Protein_A'])):\n",
    "    megazord['Protein_A'][i] = TOTALIDTAB.loc[TOTALIDTAB['ID'] == megazord['Protein_A'][i]]['name'].to_string(index=False)\n",
    "\n",
    "for i in range(len(megazord['Protein_B'])):\n",
    "    megazord['Protein_B'][i] = TOTALIDTAB.loc[TOTALIDTAB['ID'] == megazord['Protein_B'][i]]['name'].to_string(index=False)"
   ]
  },
  {
   "cell_type": "code",
   "execution_count": 5,
   "metadata": {},
   "outputs": [],
   "source": [
    "#megazord.to_csv(\"./data/megazord.csv\")"
   ]
  },
  {
   "cell_type": "code",
   "execution_count": 6,
   "metadata": {},
   "outputs": [],
   "source": [
    "int_new = {}\n",
    "for ind in megazord.index:\n",
    "    if megazord['Protein_A'][ind] not in int_new.keys():\n",
    "        int_new[megazord['Protein_A'][ind]] = [megazord['Protein_B'][ind]]\n",
    "    else:\n",
    "        int_new[megazord['Protein_A'][ind]].append(megazord['Protein_B'][ind])\n",
    "\n",
    "le_keys = list(int_new.keys())"
   ]
  },
  {
   "cell_type": "code",
   "execution_count": 7,
   "metadata": {},
   "outputs": [],
   "source": [
    "df = {}\n",
    "for key in int_new.keys():\n",
    "    temp_key = le_keys.index(key)+1\n",
    "    for item in int_new[key]:\n",
    "        temp_item = le_keys.index(item)+1\n",
    "        if temp_key not in df.keys():\n",
    "            df[temp_key] = [temp_item]\n",
    "        else:\n",
    "            df[temp_key].append(temp_item)"
   ]
  },
  {
   "cell_type": "code",
   "execution_count": 8,
   "metadata": {},
   "outputs": [],
   "source": [
    "# f = open('./data/graph.txt', 'a')\n",
    "# for key in df.keys():\n",
    "#     f.write(str(df[key]).strip('[]').replace(',',''))\n",
    "#     f.write('\\n')\n",
    "# f.close()"
   ]
  },
  {
   "cell_type": "code",
   "execution_count": 9,
   "metadata": {},
   "outputs": [],
   "source": [
    "# natalizumab = le_keys.index('DB00108')\n",
    "# imatinib = le_keys.index('DB00619')\n",
    "# tandutinib = le_keys.index('DB05465')\n",
    "\n",
    "natalizumab = le_keys.index(' Natalizumab')\n",
    "imatinib = le_keys.index(' Imatinib')\n",
    "tandutinib = le_keys.index(' Tandutinib')"
   ]
  },
  {
   "cell_type": "code",
   "execution_count": 10,
   "metadata": {},
   "outputs": [
    {
     "name": "stdout",
     "output_type": "stream",
     "text": [
      "Correct! 64\n",
      "Correct! 360\n",
      "Correct! 378\n"
     ]
    }
   ],
   "source": [
    "for i in range(2,500):\n",
    "    parted = pd.read_csv(\"./data/metis_trials/graph.txt.part.\"+str(i))\n",
    "\n",
    "    if parted.iloc[natalizumab,0] == parted.iloc[imatinib,0] and parted.iloc[tandutinib,0] != parted.iloc[imatinib,0]:\n",
    "        print('Correct!', i)"
   ]
  },
  {
   "cell_type": "code",
   "execution_count": 11,
   "metadata": {},
   "outputs": [],
   "source": [
    "for i in range(2,500):\n",
    "    parted = pd.read_csv(\"./data/metis_trials/graph.txt.part.\"+str(i))\n",
    "\n",
    "    if parted.iloc[natalizumab,0] == parted.iloc[imatinib,0] and parted.iloc[tandutinib,0] == parted.iloc[imatinib,0]:\n",
    "        print('Correct!', i)"
   ]
  },
  {
   "cell_type": "code",
   "execution_count": 12,
   "metadata": {},
   "outputs": [
    {
     "name": "stdout",
     "output_type": "stream",
     "text": [
      "14    880\n",
      "3     880\n",
      "11    880\n",
      "10    880\n",
      "4     880\n",
      "8     880\n",
      "17    879\n",
      "15    878\n",
      "0     878\n",
      "7     877\n",
      "2     872\n",
      "13    871\n",
      "23    870\n",
      "19    869\n",
      "22    835\n",
      "12    832\n",
      "16    832\n",
      "21    831\n",
      "6     830\n",
      "5     830\n",
      "20    830\n",
      "1     830\n",
      "9     829\n",
      "18    768\n",
      "Name: cluster_size, dtype: int64\n",
      "2\n"
     ]
    }
   ],
   "source": [
    "parted = pd.read_csv(\"./data/metis_trials/graph.txt.part.24\")\n",
    "parted.columns=['cluster_size']\n",
    "print(parted.cluster_size.value_counts())\n",
    "print(parted.iloc[imatinib,0])"
   ]
  },
  {
   "cell_type": "code",
   "execution_count": 2,
   "metadata": {},
   "outputs": [],
   "source": [
    "adverseDDI = pd.read_csv(\"D:/Documents/Doktora/Barabasi_Supp/adverse_ddis.csv\")"
   ]
  },
  {
   "cell_type": "code",
   "execution_count": 11,
   "metadata": {},
   "outputs": [
    {
     "data": {
      "text/plain": [
       "<bound method NDFrame.head of       drugbank_id                        name\n",
       "0         DB00001                   Lepirudin\n",
       "1         DB00002                   Cetuximab\n",
       "2         DB00003                Dornase alfa\n",
       "3         DB00004         Denileukin diftitox\n",
       "4         DB00005                  Etanercept\n",
       "...           ...                         ...\n",
       "11028     DB14000                  Tetraglyme\n",
       "11029     DB14001  alpha-Tocopherol succinate\n",
       "11030     DB14002  D-alpha-Tocopherol acetate\n",
       "11031     DB14003    alpha-Tocopherol acetate\n",
       "11032     DB14004               Tildrakizumab\n",
       "\n",
       "[11033 rows x 2 columns]>"
      ]
     },
     "execution_count": 11,
     "metadata": {},
     "output_type": "execute_result"
    }
   ],
   "source": [
    "DRUGIDTAB.head"
   ]
  },
  {
   "cell_type": "code",
   "execution_count": 13,
   "metadata": {},
   "outputs": [],
   "source": [
    "for i in range(len(adverseDDI['Interaction_A(DrugBank_ID)'])):\n",
    "    adverseDDI['Interaction_A(DrugBank_ID)'][i] = DRUGIDTAB.loc[DRUGIDTAB['drugbank_id'] == adverseDDI['Interaction_A(DrugBank_ID)'][i]]['name'].to_string(index=False)\n",
    "\n",
    "for i in range(len(adverseDDI['Interaction_B(DrugBank_ID)'])):\n",
    "    adverseDDI['Interaction_B(DrugBank_ID)'][i] = DRUGIDTAB.loc[DRUGIDTAB['drugbank_id'] == adverseDDI['Interaction_B(DrugBank_ID)'][i]]['name'].to_string(index=False)"
   ]
  },
  {
   "cell_type": "code",
   "execution_count": 15,
   "metadata": {},
   "outputs": [],
   "source": [
    "adverseDDI.to_csv(\"D:/Documents/projects/drugdealR/data/adverse_names.csv\")"
   ]
  }
 ],
 "metadata": {
  "kernelspec": {
   "display_name": "Python 3",
   "language": "python",
   "name": "python3"
  },
  "language_info": {
   "codemirror_mode": {
    "name": "ipython",
    "version": 3
   },
   "file_extension": ".py",
   "mimetype": "text/x-python",
   "name": "python",
   "nbconvert_exporter": "python",
   "pygments_lexer": "ipython3",
   "version": "3.7.6"
  }
 },
 "nbformat": 4,
 "nbformat_minor": 2
}
